{
 "cells": [
  {
   "cell_type": "markdown",
   "metadata": {
    "collapsed": true
   },
   "source": [
    "## Q1.\n",
    "\n",
    "Add methods `__iter__` to your project Time Series class to iterate over values, a method `itertimes` to iterate over times, a method `itervalues` to iterate over values, and a method `iteritems` to iterate over time-value pairs. (This is a similar interface to python dictionaries). To test these, check both the types of the results and the answers you expect."
   ]
  },
  {
   "cell_type": "code",
   "execution_count": 1,
   "metadata": {
    "collapsed": true
   },
   "outputs": [],
   "source": [
    "#your code here\n"
   ]
  },
  {
   "cell_type": "markdown",
   "metadata": {},
   "source": [
    "## Q2.\n",
    "\n",
    "An online mean and standard deviation algorithm.\n",
    "\n",
    "Below is a function to generate a potentially infinite stream of 1-D data."
   ]
  },
  {
   "cell_type": "code",
   "execution_count": 5,
   "metadata": {
    "collapsed": false
   },
   "outputs": [],
   "source": [
    "from random import normalvariate, random\n",
    "from itertools import count\n",
    "def make_data(m, stop=None):\n",
    "    for _ in count():\n",
    "        if stop and _ > stop:\n",
    "            break\n",
    "        yield 1.0e09 + normalvariate(0, m*random() )\n",
    "        "
   ]
  },
  {
   "cell_type": "markdown",
   "metadata": {},
   "source": [
    "Here is an implementation of an online mean algorithm..see http://www.johndcook.com/blog/standard_deviation/ and the link to http://www.johndcook.com/blog/2008/09/26/comparing-three-methods-of-computing-standard-deviation/ in-between. (Convince yourselves of the formulas...)"
   ]
  },
  {
   "cell_type": "code",
   "execution_count": 6,
   "metadata": {
    "collapsed": true
   },
   "outputs": [],
   "source": [
    "def online_mean(iterator):\n",
    "    n = 0\n",
    "    mu = 0\n",
    "    for value in iterator:\n",
    "        n += 1\n",
    "        delta = value - mu\n",
    "        mu = mu + delta/n\n",
    "        yield mu"
   ]
  },
  {
   "cell_type": "markdown",
   "metadata": {},
   "source": [
    "We use out generator functions to implement iterators:"
   ]
  },
  {
   "cell_type": "code",
   "execution_count": 15,
   "metadata": {
    "collapsed": false
   },
   "outputs": [
    {
     "name": "stdout",
     "output_type": "stream",
     "text": [
      "[1000000000.1231574, 999999999.6919035, 999999999.0117985, 1000000000.0126944, 1000000005.5084858, 1000000000.0169846, 999999994.628876, 999999997.8346056, 1000000000.388472, 1000000003.990709, 999999999.4109826]\n"
     ]
    }
   ],
   "source": [
    "g = list(make_data(5, 10))\n",
    "print(g)"
   ]
  },
  {
   "cell_type": "code",
   "execution_count": 16,
   "metadata": {
    "collapsed": false
   },
   "outputs": [
    {
     "data": {
      "text/plain": [
       "[1000000000.1231574,\n",
       " 999999999.9075304,\n",
       " 999999999.6089531,\n",
       " 999999999.7098885,\n",
       " 1000000000.8696079,\n",
       " 1000000000.727504,\n",
       " 999999999.8562714,\n",
       " 999999999.6035632,\n",
       " 999999999.6907753,\n",
       " 1000000000.1207687,\n",
       " 1000000000.0562427]"
      ]
     },
     "execution_count": 16,
     "metadata": {},
     "output_type": "execute_result"
    }
   ],
   "source": [
    "ab = online_mean(g)\n",
    "list(ab)"
   ]
  },
  {
   "cell_type": "code",
   "execution_count": 8,
   "metadata": {
    "collapsed": true
   },
   "outputs": [
    {
     "name": "stdout",
     "output_type": "stream",
     "text": [
      "<class 'generator'>\n"
     ]
    },
    {
     "data": {
      "text/plain": [
       "[1000000009.0726615,\n",
       " 1000000004.6368046,\n",
       " 1000000003.5791572,\n",
       " 1000000002.1090913,\n",
       " 1000000001.3684376,\n",
       " 1000000001.9162925,\n",
       " 1000000001.654492,\n",
       " 1000000001.4053586,\n",
       " 1000000001.6552278,\n",
       " 1000000001.4617195,\n",
       " 1000000001.359219,\n",
       " 1000000001.1902303,\n",
       " 1000000001.4465213,\n",
       " 1000000001.3499578,\n",
       " 1000000001.6412671,\n",
       " 1000000001.5531092,\n",
       " 1000000001.5814182,\n",
       " 1000000001.2408297,\n",
       " 1000000001.0314033,\n",
       " 1000000000.5478767,\n",
       " 1000000000.597401,\n",
       " 1000000000.6441196,\n",
       " 1000000000.6398298,\n",
       " 1000000000.6003413,\n",
       " 1000000000.8441517,\n",
       " 1000000000.7470005,\n",
       " 1000000000.6819477,\n",
       " 1000000000.6536723,\n",
       " 1000000000.5492172,\n",
       " 1000000000.545035,\n",
       " 1000000000.3491234,\n",
       " 1000000000.353828,\n",
       " 1000000000.6674933,\n",
       " 1000000000.6406887,\n",
       " 1000000000.6140962,\n",
       " 1000000000.5436988,\n",
       " 1000000000.5762368,\n",
       " 1000000000.5484923,\n",
       " 1000000000.4401009,\n",
       " 1000000000.422202,\n",
       " 1000000000.4205872,\n",
       " 1000000000.3431703,\n",
       " 1000000000.0627176,\n",
       " 1000000000.0739279,\n",
       " 1000000000.0799198,\n",
       " 1000000000.0943652,\n",
       " 999999999.995532,\n",
       " 999999999.9536223,\n",
       " 999999999.8904809,\n",
       " 999999999.8928351,\n",
       " 999999999.9618316,\n",
       " 999999999.950764,\n",
       " 999999999.901613,\n",
       " 999999999.9273326,\n",
       " 999999999.9182917,\n",
       " 1000000000.0574231,\n",
       " 1000000000.0554162,\n",
       " 1000000000.0791272,\n",
       " 1000000000.1119647,\n",
       " 1000000000.1445943,\n",
       " 1000000000.0893338,\n",
       " 1000000000.0987145,\n",
       " 1000000000.1893901,\n",
       " 1000000000.1208192,\n",
       " 1000000000.1498824,\n",
       " 1000000000.1561224,\n",
       " 1000000000.2444004,\n",
       " 1000000000.2751995,\n",
       " 1000000000.2064228,\n",
       " 1000000000.1823264,\n",
       " 1000000000.1834095,\n",
       " 1000000000.196759,\n",
       " 1000000000.1956099,\n",
       " 1000000000.2008017,\n",
       " 1000000000.1912928,\n",
       " 1000000000.1941373,\n",
       " 1000000000.1922522,\n",
       " 1000000000.2065511,\n",
       " 1000000000.2224463,\n",
       " 1000000000.2876984,\n",
       " 1000000000.2954152,\n",
       " 1000000000.2845867,\n",
       " 1000000000.2776332,\n",
       " 1000000000.2753392,\n",
       " 1000000000.2725656,\n",
       " 1000000000.2555015,\n",
       " 1000000000.2502354,\n",
       " 1000000000.2734842,\n",
       " 1000000000.2629834,\n",
       " 1000000000.2362202,\n",
       " 1000000000.2319834,\n",
       " 1000000000.2004302,\n",
       " 1000000000.2136207,\n",
       " 1000000000.198811,\n",
       " 1000000000.1671205,\n",
       " 1000000000.1440175,\n",
       " 1000000000.1433785,\n",
       " 1000000000.1713648,\n",
       " 1000000000.1776673,\n",
       " 1000000000.170965,\n",
       " 1000000000.1685364]"
      ]
     },
     "execution_count": 8,
     "metadata": {},
     "output_type": "execute_result"
    }
   ],
   "source": [
    "g = online_mean(make_data(5, 100))\n",
    "print(type(g))\n",
    "list(g)"
   ]
  },
  {
   "cell_type": "markdown",
   "metadata": {},
   "source": [
    "### 2.1\n",
    "\n",
    "Implement the standard deviation algorithm as a generator function as\n",
    "\n",
    "```python\n",
    "def online_mean_dev(iterator):\n",
    "    BLA BLA\n",
    "    if n > 1:\n",
    "        stddev = math.sqrt(dev_accum/(n-1))\n",
    "        yield (n, value, mu, stddev)\n",
    "```"
   ]
  },
  {
   "cell_type": "code",
   "execution_count": 40,
   "metadata": {
    "collapsed": false
   },
   "outputs": [],
   "source": [
    "import math\n",
    "def online_mean_dev(iterator):\n",
    "    # // initialize\n",
    "    n = 1\n",
    "    dev_accum = 0\n",
    "    \n",
    "    # // begin mean calculation\n",
    "    mean_generator = online_mean(iter(iterator))\n",
    "    mu_prev = next(mean_generator)\n",
    "    \n",
    "    # // compute standard deviation online\n",
    "    for value in iterator:\n",
    "        n += 1\n",
    "        mu = next(mean_generator)\n",
    "        dev_accum += (value - mu_prev)*(value - mu)\n",
    "        mu_prev = mu\n",
    "        stddev = math.sqrt(dev_accum/(n-1))\n",
    "        yield (n, value, mu, stddev)"
   ]
  },
  {
   "cell_type": "markdown",
   "metadata": {},
   "source": [
    "Here we make 100000 element data, and run this iterator on it (imagine running this on a time-series being slowly read from disk"
   ]
  },
  {
   "cell_type": "code",
   "execution_count": 41,
   "metadata": {
    "collapsed": true
   },
   "outputs": [],
   "source": [
    "data_with_stats = online_mean_dev(make_data(5, 100000))"
   ]
  },
  {
   "cell_type": "markdown",
   "metadata": {},
   "source": [
    "## Q3.\n",
    "\n",
    "Let's do Anomaly detection. Write a routine `is_ok`:\n",
    "\n",
    "```python\n",
    "def is_ok(level, t)\n",
    "```\n",
    "\n",
    "which takes a tuple like the one yielded by your code above and returns True if the value is inbetween `level`-$\\sigma$ of the mean."
   ]
  },
  {
   "cell_type": "code",
   "execution_count": 45,
   "metadata": {
    "collapsed": true
   },
   "outputs": [],
   "source": [
    "#your code here\n",
    "def is_ok(level,t):\n",
    "    return (t[1] > t[2] - (level * t[3])) and (t[1] < t[2] + (level * t[3]))"
   ]
  },
  {
   "cell_type": "markdown",
   "metadata": {},
   "source": [
    "We use this function to create a predicate passed through to `itertools.filterfalse` which is then used to obtain an iterator on the anomalies."
   ]
  },
  {
   "cell_type": "code",
   "execution_count": 46,
   "metadata": {
    "collapsed": true
   },
   "outputs": [],
   "source": [
    "from itertools import filterfalse\n",
    "pred = lambda t: is_ok(5, t)\n",
    "anomalies = filterfalse(pred, data_with_stats)"
   ]
  },
  {
   "cell_type": "markdown",
   "metadata": {},
   "source": [
    "We materialize the anomalies..."
   ]
  },
  {
   "cell_type": "code",
   "execution_count": 47,
   "metadata": {
    "collapsed": false
   },
   "outputs": [
    {
     "data": {
      "text/plain": [
       "[(7581, 1000000016.471212, 999999999.9617169, 2.918464847772603),\n",
       " (9019, 999999985.0258793, 999999999.9874806, 2.9193850510182866),\n",
       " (11561, 1000000015.5639933, 999999999.9708933, 2.910737715492603),\n",
       " (16754, 999999984.859731, 999999999.982145, 2.91946151042329),\n",
       " (18965, 999999985.3692993, 999999999.985391, 2.9177476069036548),\n",
       " (20523, 1000000014.762635, 999999999.9950593, 2.9208613250689766),\n",
       " (20560, 1000000015.5623449, 999999999.9949514, 2.9229980742282007),\n",
       " (20657, 999999983.4862732, 999999999.9977247, 2.9250648211430645),\n",
       " (27846, 999999985.3283511, 999999999.9971168, 2.8939398198417146),\n",
       " (28351, 1000000018.453933, 999999999.9962655, 2.8929166924350334),\n",
       " (38545, 1000000014.5901663, 999999999.9971038, 2.887784301746257),\n",
       " (41267, 999999983.1233371, 1000000000.0002006, 2.8854474102282084),\n",
       " (42980, 999999984.7976887, 999999999.9962395, 2.8860507643294917),\n",
       " (46793, 1000000015.1378298, 999999999.9944646, 2.8830915845726843)]"
      ]
     },
     "execution_count": 47,
     "metadata": {},
     "output_type": "execute_result"
    }
   ],
   "source": [
    "list(anomalies)#materialize"
   ]
  },
  {
   "cell_type": "markdown",
   "metadata": {},
   "source": [
    "## To think of, but not hand in\n",
    "\n",
    "What kinds of anomalies will this algorithm pick up? What kinds would a shorter \"window\" of anomaly detection, like 100 points around the time in question pick? How might you create an algorithm which does window based averaging? (hint: the window size is small compared to the time series size). \n",
    "\n",
    "Finally think a bit of how you might implement all of this in a production environment..remember that data streaming in might get backed up when you handle an anomaly.\n",
    "\n",
    "(Some inspiration might accrue if you look at the docs for `collections.deque`)."
   ]
  },
  {
   "cell_type": "markdown",
   "metadata": {
    "collapsed": true
   },
   "source": [
    "**Answer:**\n",
    "This algorithm will pick up anomalies that are very far from the mean, which occur naturally over much sampling.\n",
    "\n",
    "A shorter window of anomaly detection would detect more anomalies, as the variance would be more volatile. The window based algorithm would hold values over the course of the window, and subtract them out in the same way that they were added in."
   ]
  }
 ],
 "metadata": {
  "kernelspec": {
   "display_name": "Python 3",
   "language": "python",
   "name": "python3"
  },
  "language_info": {
   "codemirror_mode": {
    "name": "ipython",
    "version": 3
   },
   "file_extension": ".py",
   "mimetype": "text/x-python",
   "name": "python",
   "nbconvert_exporter": "python",
   "pygments_lexer": "ipython3",
   "version": "3.5.1"
  }
 },
 "nbformat": 4,
 "nbformat_minor": 0
}
